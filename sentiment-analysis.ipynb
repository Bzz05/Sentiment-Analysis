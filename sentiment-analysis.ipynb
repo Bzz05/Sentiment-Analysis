{
 "cells": [
  {
   "cell_type": "code",
   "execution_count": null,
   "metadata": {
    "trusted": true
   },
   "outputs": [],
   "source": [
    "!python -m spacy download en_core_web_lg"
   ]
  },
  {
   "cell_type": "code",
   "execution_count": 140,
   "metadata": {
    "_cell_guid": "b1076dfc-b9ad-4769-8c92-a6c4dae69d19",
    "_uuid": "8f2839f25d086af736a60e9eeb907d3b93b6e0e5",
    "execution": {
     "iopub.execute_input": "2025-01-07T09:20:18.931303Z",
     "iopub.status.busy": "2025-01-07T09:20:18.930931Z",
     "iopub.status.idle": "2025-01-07T09:20:18.941027Z",
     "shell.execute_reply": "2025-01-07T09:20:18.940155Z",
     "shell.execute_reply.started": "2025-01-07T09:20:18.931276Z"
    },
    "trusted": true
   },
   "outputs": [
    {
     "name": "stdout",
     "output_type": "stream",
     "text": [
      "[nltk_data] Downloading package wordnet to /usr/share/nltk_data...\n",
      "[nltk_data]   Package wordnet is already up-to-date!\n",
      "[nltk_data] Downloading package stopwords to /usr/share/nltk_data...\n",
      "[nltk_data]   Package stopwords is already up-to-date!\n"
     ]
    }
   ],
   "source": [
    "import torch\n",
    "import torch.nn as nn\n",
    "from torch.utils.data import DataLoader, Dataset\n",
    "from transformers import BertTokenizer, BertModel\n",
    "\n",
    "\n",
    "from sklearn.model_selection import train_test_split as tts\n",
    "from sklearn.metrics import accuracy_score\n",
    "\n",
    "import numpy as np\n",
    "import pandas as pd\n",
    "import re\n",
    "import matplotlib.pyplot as plt\n",
    "%matplotlib inline"
   ]
  },
  {
   "cell_type": "code",
   "execution_count": 114,
   "metadata": {
    "execution": {
     "iopub.execute_input": "2025-01-07T09:12:22.353319Z",
     "iopub.status.busy": "2025-01-07T09:12:22.352948Z",
     "iopub.status.idle": "2025-01-07T09:12:22.436137Z",
     "shell.execute_reply": "2025-01-07T09:12:22.435361Z",
     "shell.execute_reply.started": "2025-01-07T09:12:22.353290Z"
    },
    "trusted": true
   },
   "outputs": [
    {
     "name": "stdout",
     "output_type": "stream",
     "text": [
      "<class 'pandas.core.frame.DataFrame'>\n",
      "RangeIndex: 14640 entries, 0 to 14639\n",
      "Data columns (total 2 columns):\n",
      " #   Column             Non-Null Count  Dtype \n",
      "---  ------             --------------  ----- \n",
      " 0   airline_sentiment  14640 non-null  object\n",
      " 1   text               14640 non-null  object\n",
      "dtypes: object(2)\n",
      "memory usage: 228.9+ KB\n",
      "(14640, 2) None\n"
     ]
    },
    {
     "data": {
      "text/html": [
       "<div>\n",
       "<style scoped>\n",
       "    .dataframe tbody tr th:only-of-type {\n",
       "        vertical-align: middle;\n",
       "    }\n",
       "\n",
       "    .dataframe tbody tr th {\n",
       "        vertical-align: top;\n",
       "    }\n",
       "\n",
       "    .dataframe thead th {\n",
       "        text-align: right;\n",
       "    }\n",
       "</style>\n",
       "<table border=\"1\" class=\"dataframe\">\n",
       "  <thead>\n",
       "    <tr style=\"text-align: right;\">\n",
       "      <th></th>\n",
       "      <th>airline_sentiment</th>\n",
       "      <th>text</th>\n",
       "    </tr>\n",
       "  </thead>\n",
       "  <tbody>\n",
       "    <tr>\n",
       "      <th>0</th>\n",
       "      <td>neutral</td>\n",
       "      <td>@VirginAmerica What @dhepburn said.</td>\n",
       "    </tr>\n",
       "    <tr>\n",
       "      <th>1</th>\n",
       "      <td>positive</td>\n",
       "      <td>@VirginAmerica plus you've added commercials t...</td>\n",
       "    </tr>\n",
       "    <tr>\n",
       "      <th>2</th>\n",
       "      <td>neutral</td>\n",
       "      <td>@VirginAmerica I didn't today... Must mean I n...</td>\n",
       "    </tr>\n",
       "    <tr>\n",
       "      <th>3</th>\n",
       "      <td>negative</td>\n",
       "      <td>@VirginAmerica it's really aggressive to blast...</td>\n",
       "    </tr>\n",
       "    <tr>\n",
       "      <th>4</th>\n",
       "      <td>negative</td>\n",
       "      <td>@VirginAmerica and it's a really big bad thing...</td>\n",
       "    </tr>\n",
       "  </tbody>\n",
       "</table>\n",
       "</div>"
      ],
      "text/plain": [
       "  airline_sentiment                                               text\n",
       "0           neutral                @VirginAmerica What @dhepburn said.\n",
       "1          positive  @VirginAmerica plus you've added commercials t...\n",
       "2           neutral  @VirginAmerica I didn't today... Must mean I n...\n",
       "3          negative  @VirginAmerica it's really aggressive to blast...\n",
       "4          negative  @VirginAmerica and it's a really big bad thing..."
      ]
     },
     "execution_count": 114,
     "metadata": {},
     "output_type": "execute_result"
    }
   ],
   "source": [
    "data = pd.read_csv('/kaggle/input/twitter-airline-sentiment/Tweets.csv')\n",
    "data = data[['airline_sentiment', 'text']]\n",
    "print(data.shape, data.info())\n",
    "data.head()"
   ]
  },
  {
   "cell_type": "code",
   "execution_count": 115,
   "metadata": {
    "execution": {
     "iopub.execute_input": "2025-01-07T09:12:25.146766Z",
     "iopub.status.busy": "2025-01-07T09:12:25.146307Z",
     "iopub.status.idle": "2025-01-07T09:12:25.363792Z",
     "shell.execute_reply": "2025-01-07T09:12:25.362927Z",
     "shell.execute_reply.started": "2025-01-07T09:12:25.146728Z"
    },
    "trusted": true
   },
   "outputs": [
    {
     "data": {
      "text/plain": [
       "<BarContainer object of 3 artists>"
      ]
     },
     "execution_count": 115,
     "metadata": {},
     "output_type": "execute_result"
    },
    {
     "data": {
      "image/png": "[encoded data removed]",
      "text/plain": [
       "<Figure size 640x480 with 1 Axes>"
      ]
     },
     "metadata": {},
     "output_type": "display_data"
    }
   ],
   "source": [
    "target_cnt = data['airline_sentiment'].value_counts()\n",
    "plt.bar(target_cnt.index, target_cnt, color = ['red', 'blue', 'yellow'])"
   ]
  },
  {
   "cell_type": "code",
   "execution_count": 116,
   "metadata": {
    "execution": {
     "iopub.execute_input": "2025-01-07T09:12:25.740603Z",
     "iopub.status.busy": "2025-01-07T09:12:25.740291Z",
     "iopub.status.idle": "2025-01-07T09:12:25.756186Z",
     "shell.execute_reply": "2025-01-07T09:12:25.755067Z",
     "shell.execute_reply.started": "2025-01-07T09:12:25.740578Z"
    },
    "trusted": true
   },
   "outputs": [],
   "source": [
    "min_class_count = data['airline_sentiment'].value_counts().min()\n",
    "\n",
    "balanced_data = pd.concat([\n",
    "    data[data['airline_sentiment'] == 'positive'].sample(min_class_count, random_state=42),\n",
    "    data[data['airline_sentiment'] == 'neutral'].sample(min_class_count, random_state=42),\n",
    "    data[data['airline_sentiment'] == 'negative'].sample(min_class_count, random_state=42)\n",
    "])"
   ]
  },
  {
   "cell_type": "code",
   "execution_count": 117,
   "metadata": {
    "execution": {
     "iopub.execute_input": "2025-01-07T09:12:27.303449Z",
     "iopub.status.busy": "2025-01-07T09:12:27.303118Z",
     "iopub.status.idle": "2025-01-07T09:12:27.496133Z",
     "shell.execute_reply": "2025-01-07T09:12:27.495372Z",
     "shell.execute_reply.started": "2025-01-07T09:12:27.303421Z"
    },
    "trusted": true
   },
   "outputs": [
    {
     "data": {
      "image/png": "[encoded data removed]",
      "text/plain": [
       "<Figure size 640x480 with 1 Axes>"
      ]
     },
     "metadata": {},
     "output_type": "display_data"
    }
   ],
   "source": [
    "target_cnt_balanced = balanced_data['airline_sentiment'].value_counts()\n",
    "plt.bar(target_cnt_balanced.index, target_cnt_balanced, color=['red', 'blue', 'yellow'])\n",
    "plt.title('Balanced Distribution of Sentiments')\n",
    "plt.show()"
   ]
  },
  {
   "cell_type": "code",
   "execution_count": 145,
   "metadata": {
    "execution": {
     "iopub.execute_input": "2025-01-07T09:43:47.040547Z",
     "iopub.status.busy": "2025-01-07T09:43:47.040089Z",
     "iopub.status.idle": "2025-01-07T09:43:47.045750Z",
     "shell.execute_reply": "2025-01-07T09:43:47.044771Z",
     "shell.execute_reply.started": "2025-01-07T09:43:47.040524Z"
    },
    "trusted": true
   },
   "outputs": [],
   "source": [
    "def prepro(text):\n",
    "    _text = text.lower()\n",
    "    _text = re.sub(r'@\\w+', '@user', _text)\n",
    "    _text = re.sub(r'http[s]?://(?:[a-zA-Z]|[0-9]|[$-_@.&+]|[!*\\(\\),]|(?:%[0-9a-fA-F][0-9a-fA-F]))+', '', _text)\n",
    "    _text = re.sub(r'[^a-z\\s]', ' ', _text)\n",
    "    return _text #, doc.ents \n",
    "\n",
    "def conv(x):\n",
    "    if x == 'positive': return 2\n",
    "    elif x == 'neutral': return 1\n",
    "    elif x == 'negative': return 0"
   ]
  },
  {
   "cell_type": "code",
   "execution_count": 146,
   "metadata": {
    "execution": {
     "iopub.execute_input": "2025-01-07T09:43:47.293435Z",
     "iopub.status.busy": "2025-01-07T09:43:47.293101Z",
     "iopub.status.idle": "2025-01-07T09:43:47.298649Z",
     "shell.execute_reply": "2025-01-07T09:43:47.297754Z",
     "shell.execute_reply.started": "2025-01-07T09:43:47.293410Z"
    },
    "trusted": true
   },
   "outputs": [
    {
     "data": {
      "text/plain": [
       "'hey user please bring american airlines to  blackberry  '"
      ]
     },
     "execution_count": 146,
     "metadata": {},
     "output_type": "execute_result"
    }
   ],
   "source": [
    "prepro('hey@AmericanAir Please bring american airlines to #BlackBerry10')"
   ]
  },
  {
   "cell_type": "code",
   "execution_count": 147,
   "metadata": {
    "execution": {
     "iopub.execute_input": "2025-01-07T09:43:47.508865Z",
     "iopub.status.busy": "2025-01-07T09:43:47.508591Z",
     "iopub.status.idle": "2025-01-07T09:43:47.517022Z",
     "shell.execute_reply": "2025-01-07T09:43:47.516021Z",
     "shell.execute_reply.started": "2025-01-07T09:43:47.508842Z"
    },
    "trusted": true
   },
   "outputs": [
    {
     "data": {
      "text/plain": [
       "(False, False)"
      ]
     },
     "execution_count": 147,
     "metadata": {},
     "output_type": "execute_result"
    }
   ],
   "source": [
    "data['text'].isna().any(), data['airline_sentiment'].isna().any()"
   ]
  },
  {
   "cell_type": "code",
   "execution_count": 148,
   "metadata": {
    "execution": {
     "iopub.execute_input": "2025-01-07T09:43:49.388758Z",
     "iopub.status.busy": "2025-01-07T09:43:49.388433Z",
     "iopub.status.idle": "2025-01-07T09:43:49.473357Z",
     "shell.execute_reply": "2025-01-07T09:43:49.472665Z",
     "shell.execute_reply.started": "2025-01-07T09:43:49.388732Z"
    },
    "trusted": true
   },
   "outputs": [],
   "source": [
    "x = data['text'].apply(prepro).to_list()\n",
    "y = data['airline_sentiment'].apply(conv).to_list()"
   ]
  },
  {
   "cell_type": "code",
   "execution_count": 149,
   "metadata": {
    "execution": {
     "iopub.execute_input": "2025-01-07T09:43:49.606591Z",
     "iopub.status.busy": "2025-01-07T09:43:49.606269Z",
     "iopub.status.idle": "2025-01-07T09:43:49.623798Z",
     "shell.execute_reply": "2025-01-07T09:43:49.622770Z",
     "shell.execute_reply.started": "2025-01-07T09:43:49.606566Z"
    },
    "trusted": true
   },
   "outputs": [],
   "source": [
    "x_train, x_test, y_train, y_test = tts(x, y, test_size = .2, random_state = 42, stratify = y)"
   ]
  },
  {
   "cell_type": "code",
   "execution_count": 150,
   "metadata": {
    "execution": {
     "iopub.execute_input": "2025-01-07T09:43:50.989495Z",
     "iopub.status.busy": "2025-01-07T09:43:50.989209Z",
     "iopub.status.idle": "2025-01-07T09:43:50.997350Z",
     "shell.execute_reply": "2025-01-07T09:43:50.996517Z",
     "shell.execute_reply.started": "2025-01-07T09:43:50.989475Z"
    },
    "trusted": true
   },
   "outputs": [],
   "source": [
    "class BertEmbeddingDataset(Dataset):\n",
    "    def __init__(self, texts, labels, tokenizer, max_length=128):\n",
    "        self.labels = torch.tensor(labels, dtype=torch.long) # convert labels to tensor\n",
    "        \n",
    "        print(\"Computing BERT embeddings...\")\n",
    "        model = BertModel.from_pretrained('bert-base-uncased') # from HF\n",
    "        model.eval() # to disable dropout & batch norm\n",
    "        \n",
    "        self.embeddings = []\n",
    "        \n",
    "        with torch.no_grad(): # no_grad (so no memory is kept)\n",
    "            for i, text in enumerate(texts):\n",
    "                if i % 100 == 0:\n",
    "                    print(f\"Processing text {i}/{len(texts)}\")\n",
    "                    \n",
    "                encoding = tokenizer(text, \n",
    "                                   truncation=True,\n",
    "                                   padding='max_length',\n",
    "                                   max_length=max_length,\n",
    "                                   return_tensors='pt')\n",
    "                \n",
    "                outputs = model(**encoding) # ** to unpack dict values\n",
    "                embedding = outputs.last_hidden_state[:, 0, :].squeeze(0) # uses the [CLS] token embedding\n",
    "                self.embeddings.append(embedding)\n",
    "        \n",
    "        self.embeddings = torch.stack(self.embeddings)\n",
    "        print(\"Embeddings computed!\")\n",
    "\n",
    "    def __len__(self):\n",
    "        return len(self.labels)\n",
    "\n",
    "    def __getitem__(self, idx):\n",
    "        return {\n",
    "            'embeddings': self.embeddings[idx],\n",
    "            'labels': self.labels[idx]\n",
    "        }\n",
    "\n",
    "\n",
    "class BertFineTuneDataset(Dataset):\n",
    "    def __init__(self, texts, labels, tokenizer, max_length=128):\n",
    "        self.encodings = tokenizer(texts, truncation=True, padding='max_length', \n",
    "                                 max_length=max_length, return_tensors='pt')\n",
    "        self.labels = torch.tensor(labels, dtype=torch.long)\n",
    "\n",
    "    def __len__(self):\n",
    "        return len(self.labels)\n",
    "\n",
    "    def __getitem__(self, idx):\n",
    "        item = {key: val[idx] for key, val in self.encodings.items()}\n",
    "        item['labels'] = self.labels[idx]\n",
    "        return item"
   ]
  },
  {
   "cell_type": "code",
   "execution_count": 196,
   "metadata": {
    "execution": {
     "iopub.execute_input": "2025-01-07T10:49:30.796113Z",
     "iopub.status.busy": "2025-01-07T10:49:30.795749Z",
     "iopub.status.idle": "2025-01-07T10:49:30.803432Z",
     "shell.execute_reply": "2025-01-07T10:49:30.802508Z",
     "shell.execute_reply.started": "2025-01-07T10:49:30.796088Z"
    },
    "trusted": true
   },
   "outputs": [],
   "source": [
    "class PurePyTorchClassifier(nn.Module):\n",
    "    # input _dim is set to 768 because that's BERT's embed size\n",
    "    def __init__(self, input_dim=768, hidden_dims=[512, 256], output_dim=3):\n",
    "        super(PurePyTorchClassifier, self).__init__()\n",
    "        \n",
    "        layers = []\n",
    "        prev_dim = input_dim\n",
    "        \n",
    "        for hidden_dim in hidden_dims: # first layer has 512, second one has 256\n",
    "            layers.extend([\n",
    "                nn.Linear(prev_dim, hidden_dim),\n",
    "                nn.BatchNorm1d(hidden_dim),\n",
    "                nn.ReLU(),\n",
    "                nn.Dropout(0.3)\n",
    "            ])\n",
    "            prev_dim = hidden_dim\n",
    "        \n",
    "        layers.append(nn.Linear(prev_dim, output_dim)) # 3 output\n",
    "        \n",
    "        self.network = nn.Sequential(*layers) # join 'em up\n",
    "        self.criterion = nn.CrossEntropyLoss()\n",
    "\n",
    "    def forward(self, x):\n",
    "        return self.network(x)\n",
    "\n",
    "    def compute_loss(self, outputs, labels):\n",
    "        return self.criterion(outputs, labels)\n",
    "\n",
    "# BERT Fine-tuning model\n",
    "class BertClassifier(nn.Module):\n",
    "    def __init__(self, output_dim=3):\n",
    "        super(BertClassifier, self).__init__()\n",
    "        self.bert = BertModel.from_pretrained('bert-base-uncased')\n",
    "        self.dropout = nn.Dropout(0.3)\n",
    "        self.fc = nn.Linear(768, output_dim)\n",
    "        self.criterion = nn.CrossEntropyLoss()\n",
    "\n",
    "    def forward(self, input_ids, attention_mask):\n",
    "        outputs = self.bert(input_ids=input_ids, attention_mask=attention_mask) \n",
    "        '''\n",
    "        BERT accepts 2 inputs, the input_ids and attention mask\n",
    "        input_ids such as [121, 122, 199, 200, 999, 102]\n",
    "        attention_mask such as [1, 1, 0, 0, 1, 1]\n",
    "        '''\n",
    "        pooled_output = outputs.pooler_output # extracts the representation of [CLS] token\n",
    "        x = self.dropout(pooled_output)\n",
    "        return self.fc(x) # final pred\n",
    "\n",
    "    def compute_loss(self, outputs, labels):\n",
    "        return self.criterion(outputs, labels)"
   ]
  },
  {
   "cell_type": "code",
   "execution_count": 152,
   "metadata": {
    "execution": {
     "iopub.execute_input": "2025-01-07T09:43:55.689507Z",
     "iopub.status.busy": "2025-01-07T09:43:55.689175Z",
     "iopub.status.idle": "2025-01-07T09:43:55.698829Z",
     "shell.execute_reply": "2025-01-07T09:43:55.698082Z",
     "shell.execute_reply.started": "2025-01-07T09:43:55.689474Z"
    },
    "trusted": true
   },
   "outputs": [],
   "source": [
    "def train_pytorch_epoch(model, train_loader, optimizer, device):\n",
    "    model.train() # starts training mode\n",
    "    total_loss = 0\n",
    "    correct = 0\n",
    "    total = 0\n",
    "    \n",
    "    for batch_idx, batch in enumerate(train_loader):\n",
    "        embeddings = batch['embeddings'].to(device) # take embed for that batch\n",
    "        labels = batch['labels'].to(device) # take labels for that batch\n",
    "        \n",
    "        # resets the gradient to prevent accumulation from previous steps\n",
    "        optimizer.zero_grad() \n",
    "        outputs = model(embeddings)\n",
    "        loss = model.compute_loss(outputs, labels)\n",
    "        \n",
    "        # takes highest logit\n",
    "        # outputs are {logits, label} and we only need the label\n",
    "        _, predicted = torch.max(outputs.data, 1) \n",
    "        total += labels.size(0)\n",
    "        correct += (predicted == labels).sum().item()\n",
    "        \n",
    "        loss.backward()\n",
    "        optimizer.step() # update weights here\n",
    "        \n",
    "        total_loss += loss.item()\n",
    "        \n",
    "        if batch_idx % 50 == 0:\n",
    "            accuracy = 100. * correct / total\n",
    "            print(f'Batch {batch_idx}/{len(train_loader)} | '\n",
    "                  f'Loss: {loss.item():.4f} | Acc: {accuracy:.2f}%')\n",
    "    \n",
    "    return total_loss / len(train_loader), 100. * correct / total\n",
    "\n",
    "def train_bert_epoch(model, train_loader, optimizer, device):\n",
    "    model.train() # start training mode\n",
    "    total_loss = 0\n",
    "    correct = 0\n",
    "    total = 0\n",
    "    \n",
    "    for batch_idx, batch in enumerate(train_loader):\n",
    "        batch = {k: v.to(device) for k, v in batch.items()}\n",
    "\n",
    "        optimizer.zero_grad()\n",
    "        outputs = model(batch['input_ids'], batch['attention_mask'])\n",
    "        loss = model.compute_loss(outputs, batch['labels'])\n",
    "        \n",
    "        _, predicted = torch.max(outputs.data, 1)\n",
    "        total += batch['labels'].size(0)\n",
    "        correct += (predicted == batch['labels']).sum().item()\n",
    "        \n",
    "        loss.backward()\n",
    "        optimizer.step()\n",
    "        \n",
    "        total_loss += loss.item()\n",
    "        \n",
    "        if batch_idx % 50 == 0:\n",
    "            accuracy = 100. * correct / total\n",
    "            print(f'Batch {batch_idx}/{len(train_loader)} | '\n",
    "                  f'Loss: {loss.item():.4f} | Acc: {accuracy:.2f}%')\n",
    "    \n",
    "    return total_loss / len(train_loader), 100. * correct / total"
   ]
  },
  {
   "cell_type": "code",
   "execution_count": 154,
   "metadata": {
    "execution": {
     "iopub.execute_input": "2025-01-07T09:44:07.980520Z",
     "iopub.status.busy": "2025-01-07T09:44:07.980185Z",
     "iopub.status.idle": "2025-01-07T10:19:04.487257Z",
     "shell.execute_reply": "2025-01-07T10:19:04.486319Z",
     "shell.execute_reply.started": "2025-01-07T09:44:07.980492Z"
    },
    "trusted": true
   },
   "outputs": [
    {
     "name": "stdout",
     "output_type": "stream",
     "text": [
      "Using device: cuda\n",
      "Creating PyTorch dataset...\n",
      "Computing BERT embeddings...\n",
      "Processing text 0/11712\n",
      "Processing text 100/11712\n",
      "Processing text 200/11712\n",
      "Processing text 300/11712\n",
      "Processing text 400/11712\n",
      "Processing text 500/11712\n",
      "Processing text 600/11712\n",
      "Processing text 700/11712\n",
      "Processing text 800/11712\n",
      "Processing text 900/11712\n",
      "Processing text 1000/11712\n",
      "Processing text 1100/11712\n",
      "Processing text 1200/11712\n",
      "Processing text 1300/11712\n",
      "Processing text 1400/11712\n",
      "Processing text 1500/11712\n",
      "Processing text 1600/11712\n",
      "Processing text 1700/11712\n",
      "Processing text 1800/11712\n",
      "Processing text 1900/11712\n",
      "Processing text 2000/11712\n",
      "Processing text 2100/11712\n",
      "Processing text 2200/11712\n",
      "Processing text 2300/11712\n",
      "Processing text 2400/11712\n",
      "Processing text 2500/11712\n",
      "Processing text 2600/11712\n",
      "Processing text 2700/11712\n",
      "Processing text 2800/11712\n",
      "Processing text 2900/11712\n",
      "Processing text 3000/11712\n",
      "Processing text 3100/11712\n",
      "Processing text 3200/11712\n",
      "Processing text 3300/11712\n",
      "Processing text 3400/11712\n",
      "Processing text 3500/11712\n",
      "Processing text 3600/11712\n",
      "Processing text 3700/11712\n",
      "Processing text 3800/11712\n",
      "Processing text 3900/11712\n",
      "Processing text 4000/11712\n",
      "Processing text 4100/11712\n",
      "Processing text 4200/11712\n",
      "Processing text 4300/11712\n",
      "Processing text 4400/11712\n",
      "Processing text 4500/11712\n",
      "Processing text 4600/11712\n",
      "Processing text 4700/11712\n",
      "Processing text 4800/11712\n",
      "Processing text 4900/11712\n",
      "Processing text 5000/11712\n",
      "Processing text 5100/11712\n",
      "Processing text 5200/11712\n",
      "Processing text 5300/11712\n",
      "Processing text 5400/11712\n",
      "Processing text 5500/11712\n",
      "Processing text 5600/11712\n",
      "Processing text 5700/11712\n",
      "Processing text 5800/11712\n",
      "Processing text 5900/11712\n",
      "Processing text 6000/11712\n",
      "Processing text 6100/11712\n",
      "Processing text 6200/11712\n",
      "Processing text 6300/11712\n",
      "Processing text 6400/11712\n",
      "Processing text 6500/11712\n",
      "Processing text 6600/11712\n",
      "Processing text 6700/11712\n",
      "Processing text 6800/11712\n",
      "Processing text 6900/11712\n",
      "Processing text 7000/11712\n",
      "Processing text 7100/11712\n",
      "Processing text 7200/11712\n",
      "Processing text 7300/11712\n",
      "Processing text 7400/11712\n",
      "Processing text 7500/11712\n",
      "Processing text 7600/11712\n",
      "Processing text 7700/11712\n",
      "Processing text 7800/11712\n",
      "Processing text 7900/11712\n",
      "Processing text 8000/11712\n",
      "Processing text 8100/11712\n",
      "Processing text 8200/11712\n",
      "Processing text 8300/11712\n",
      "Processing text 8400/11712\n",
      "Processing text 8500/11712\n",
      "Processing text 8600/11712\n",
      "Processing text 8700/11712\n",
      "Processing text 8800/11712\n",
      "Processing text 8900/11712\n",
      "Processing text 9000/11712\n",
      "Processing text 9100/11712\n",
      "Processing text 9200/11712\n",
      "Processing text 9300/11712\n",
      "Processing text 9400/11712\n",
      "Processing text 9500/11712\n",
      "Processing text 9600/11712\n",
      "Processing text 9700/11712\n",
      "Processing text 9800/11712\n",
      "Processing text 9900/11712\n",
      "Processing text 10000/11712\n",
      "Processing text 10100/11712\n",
      "Processing text 10200/11712\n",
      "Processing text 10300/11712\n",
      "Processing text 10400/11712\n",
      "Processing text 10500/11712\n",
      "Processing text 10600/11712\n",
      "Processing text 10700/11712\n",
      "Processing text 10800/11712\n",
      "Processing text 10900/11712\n",
      "Processing text 11000/11712\n",
      "Processing text 11100/11712\n",
      "Processing text 11200/11712\n",
      "Processing text 11300/11712\n",
      "Processing text 11400/11712\n",
      "Processing text 11500/11712\n",
      "Processing text 11600/11712\n",
      "Processing text 11700/11712\n",
      "Embeddings computed!\n",
      "Computing BERT embeddings...\n",
      "Processing text 0/2928\n",
      "Processing text 100/2928\n",
      "Processing text 200/2928\n",
      "Processing text 300/2928\n",
      "Processing text 400/2928\n",
      "Processing text 500/2928\n",
      "Processing text 600/2928\n",
      "Processing text 700/2928\n",
      "Processing text 800/2928\n",
      "Processing text 900/2928\n",
      "Processing text 1000/2928\n",
      "Processing text 1100/2928\n",
      "Processing text 1200/2928\n",
      "Processing text 1300/2928\n",
      "Processing text 1400/2928\n",
      "Processing text 1500/2928\n",
      "Processing text 1600/2928\n",
      "Processing text 1700/2928\n",
      "Processing text 1800/2928\n",
      "Processing text 1900/2928\n",
      "Processing text 2000/2928\n",
      "Processing text 2100/2928\n",
      "Processing text 2200/2928\n",
      "Processing text 2300/2928\n",
      "Processing text 2400/2928\n",
      "Processing text 2500/2928\n",
      "Processing text 2600/2928\n",
      "Processing text 2700/2928\n",
      "Processing text 2800/2928\n",
      "Processing text 2900/2928\n",
      "Embeddings computed!\n",
      "Creating BERT dataset...\n"
     ]
    }
   ],
   "source": [
    "device = torch.device('cuda' if torch.cuda.is_available() else 'cpu')\n",
    "print(f\"Using device: {device}\")\n",
    "\n",
    "tokenizer = BertTokenizer.from_pretrained('bert-base-uncased')\n",
    "\n",
    "print(\"Creating PyTorch dataset...\")\n",
    "pytorch_train_dataset = BertEmbeddingDataset(x_train, y_train, tokenizer)\n",
    "pytorch_test_dataset = BertEmbeddingDataset(x_test, y_test, tokenizer)\n",
    "\n",
    "print(\"Creating BERT dataset...\")\n",
    "bert_train_dataset = BertFineTuneDataset(x_train, y_train, tokenizer)\n",
    "bert_test_dataset = BertFineTuneDataset(x_test, y_test, tokenizer)"
   ]
  },
  {
   "cell_type": "code",
   "execution_count": 201,
   "metadata": {
    "execution": {
     "iopub.execute_input": "2025-01-07T10:50:56.793885Z",
     "iopub.status.busy": "2025-01-07T10:50:56.793550Z",
     "iopub.status.idle": "2025-01-07T10:50:56.798659Z",
     "shell.execute_reply": "2025-01-07T10:50:56.797660Z",
     "shell.execute_reply.started": "2025-01-07T10:50:56.793863Z"
    },
    "trusted": true
   },
   "outputs": [],
   "source": [
    "pytorch_train_loader = DataLoader(pytorch_train_dataset, batch_size=32, shuffle=True)\n",
    "pytorch_test_loader = DataLoader(pytorch_test_dataset, batch_size=32, shuffle=False)\n",
    "bert_train_loader = DataLoader(bert_train_dataset, batch_size=32, shuffle=True)\n",
    "bert_test_loader = DataLoader(bert_test_dataset, batch_size=32, shuffle=False)"
   ]
  },
  {
   "cell_type": "code",
   "execution_count": 202,
   "metadata": {
    "execution": {
     "iopub.execute_input": "2025-01-07T10:50:56.948737Z",
     "iopub.status.busy": "2025-01-07T10:50:56.948444Z",
     "iopub.status.idle": "2025-01-07T10:50:57.372334Z",
     "shell.execute_reply": "2025-01-07T10:50:57.371391Z",
     "shell.execute_reply.started": "2025-01-07T10:50:56.948716Z"
    },
    "trusted": true
   },
   "outputs": [],
   "source": [
    "pytorch_model = PurePyTorchClassifier().to(device)\n",
    "bert_model = BertClassifier().to(device)\n",
    "\n",
    "pytorch_optimizer = torch.optim.AdamW(pytorch_model.parameters(), lr=1e-3, weight_decay=0.01)\n",
    "bert_optimizer = torch.optim.AdamW(bert_model.parameters(), lr=2e-5, weight_decay=0.01)"
   ]
  },
  {
   "cell_type": "code",
   "execution_count": 203,
   "metadata": {
    "execution": {
     "iopub.execute_input": "2025-01-07T10:50:58.324050Z",
     "iopub.status.busy": "2025-01-07T10:50:58.323715Z",
     "iopub.status.idle": "2025-01-07T10:50:58.327748Z",
     "shell.execute_reply": "2025-01-07T10:50:58.326796Z",
     "shell.execute_reply.started": "2025-01-07T10:50:58.324024Z"
    },
    "trusted": true
   },
   "outputs": [],
   "source": [
    "epochs = 3"
   ]
  },
  {
   "cell_type": "code",
   "execution_count": 204,
   "metadata": {
    "execution": {
     "iopub.execute_input": "2025-01-07T10:51:01.056948Z",
     "iopub.status.busy": "2025-01-07T10:51:01.056658Z",
     "iopub.status.idle": "2025-01-07T10:51:01.060985Z",
     "shell.execute_reply": "2025-01-07T10:51:01.060031Z",
     "shell.execute_reply.started": "2025-01-07T10:51:01.056927Z"
    },
    "trusted": true
   },
   "outputs": [],
   "source": [
    "pytorch_losses, pytorch_accuracies = [], []\n",
    "bert_losses, bert_accuracies = [], []"
   ]
  },
  {
   "cell_type": "code",
   "execution_count": 205,
   "metadata": {
    "execution": {
     "iopub.execute_input": "2025-01-07T10:51:02.372793Z",
     "iopub.status.busy": "2025-01-07T10:51:02.372484Z",
     "iopub.status.idle": "2025-01-07T10:51:04.952658Z",
     "shell.execute_reply": "2025-01-07T10:51:04.951852Z",
     "shell.execute_reply.started": "2025-01-07T10:51:02.372771Z"
    },
    "trusted": true
   },
   "outputs": [
    {
     "name": "stdout",
     "output_type": "stream",
     "text": [
      "\n",
      "Epoch 1/3\n",
      "Batch 0/366 | Loss: 1.1577 | Acc: 40.62%\n",
      "Batch 50/366 | Loss: 0.5988 | Acc: 74.88%\n",
      "Batch 100/366 | Loss: 0.6834 | Acc: 74.94%\n",
      "Batch 150/366 | Loss: 0.6041 | Acc: 75.17%\n",
      "Batch 200/366 | Loss: 0.6334 | Acc: 75.86%\n",
      "Batch 250/366 | Loss: 0.7457 | Acc: 76.32%\n",
      "Batch 300/366 | Loss: 0.5333 | Acc: 76.36%\n",
      "Batch 350/366 | Loss: 0.5667 | Acc: 76.67%\n",
      "Epoch 1 - Loss: 0.5764, Accuracy: 76.61%\n",
      "\n",
      "Epoch 2/3\n",
      "Batch 0/366 | Loss: 0.3550 | Acc: 87.50%\n",
      "Batch 50/366 | Loss: 0.7713 | Acc: 81.19%\n",
      "Batch 100/366 | Loss: 0.5147 | Acc: 80.85%\n",
      "Batch 150/366 | Loss: 0.5900 | Acc: 80.34%\n",
      "Batch 200/366 | Loss: 0.6253 | Acc: 80.07%\n",
      "Batch 250/366 | Loss: 0.4950 | Acc: 79.89%\n",
      "Batch 300/366 | Loss: 0.4546 | Acc: 79.78%\n",
      "Batch 350/366 | Loss: 0.6961 | Acc: 79.54%\n",
      "Epoch 2 - Loss: 0.5053, Accuracy: 79.59%\n",
      "\n",
      "Epoch 3/3\n",
      "Batch 0/366 | Loss: 0.3752 | Acc: 84.38%\n",
      "Batch 50/366 | Loss: 0.7693 | Acc: 81.19%\n",
      "Batch 100/366 | Loss: 0.2953 | Acc: 81.03%\n",
      "Batch 150/366 | Loss: 0.3654 | Acc: 80.61%\n",
      "Batch 200/366 | Loss: 0.3003 | Acc: 80.77%\n",
      "Batch 250/366 | Loss: 0.6212 | Acc: 80.84%\n",
      "Batch 300/366 | Loss: 0.4663 | Acc: 81.03%\n",
      "Batch 350/366 | Loss: 0.6501 | Acc: 80.88%\n",
      "Epoch 3 - Loss: 0.4763, Accuracy: 80.88%\n"
     ]
    }
   ],
   "source": [
    "for epoch in range(epochs):\n",
    "    print(f\"\\nEpoch {epoch+1}/{epochs}\")\n",
    "    loss, acc = train_pytorch_epoch(pytorch_model, pytorch_train_loader, pytorch_optimizer, device)\n",
    "    pytorch_losses.append(loss)\n",
    "    pytorch_accuracies.append(acc)\n",
    "    print(f\"Epoch {epoch+1} - Loss: {loss:.4f}, Accuracy: {acc:.2f}%\")"
   ]
  },
  {
   "cell_type": "code",
   "execution_count": 206,
   "metadata": {
    "execution": {
     "iopub.execute_input": "2025-01-07T10:51:07.475071Z",
     "iopub.status.busy": "2025-01-07T10:51:07.474739Z",
     "iopub.status.idle": "2025-01-07T10:57:39.718610Z",
     "shell.execute_reply": "2025-01-07T10:57:39.717595Z",
     "shell.execute_reply.started": "2025-01-07T10:51:07.475043Z"
    },
    "trusted": true
   },
   "outputs": [
    {
     "name": "stdout",
     "output_type": "stream",
     "text": [
      "\n",
      "Epoch 1/3\n",
      "Batch 0/366 | Loss: 1.0858 | Acc: 34.38%\n",
      "Batch 50/366 | Loss: 0.7589 | Acc: 63.85%\n",
      "Batch 100/366 | Loss: 0.4764 | Acc: 71.29%\n",
      "Batch 150/366 | Loss: 0.4274 | Acc: 74.03%\n",
      "Batch 200/366 | Loss: 0.5326 | Acc: 76.10%\n",
      "Batch 250/366 | Loss: 0.5029 | Acc: 76.98%\n",
      "Batch 300/366 | Loss: 0.3187 | Acc: 77.84%\n",
      "Batch 350/366 | Loss: 0.5330 | Acc: 78.53%\n",
      "Epoch 1 - Loss: 0.5311, Accuracy: 78.80%\n",
      "\n",
      "Epoch 2/3\n",
      "Batch 0/366 | Loss: 0.2097 | Acc: 96.88%\n",
      "Batch 50/366 | Loss: 0.3079 | Acc: 89.52%\n",
      "Batch 100/366 | Loss: 0.3048 | Acc: 88.99%\n",
      "Batch 150/366 | Loss: 0.2202 | Acc: 88.47%\n",
      "Batch 200/366 | Loss: 0.2460 | Acc: 88.17%\n",
      "Batch 250/366 | Loss: 0.1699 | Acc: 88.16%\n",
      "Batch 300/366 | Loss: 0.3853 | Acc: 87.89%\n",
      "Batch 350/366 | Loss: 0.2598 | Acc: 87.80%\n",
      "Epoch 2 - Loss: 0.3306, Accuracy: 87.83%\n",
      "\n",
      "Epoch 3/3\n",
      "Batch 0/366 | Loss: 0.2168 | Acc: 90.62%\n",
      "Batch 50/366 | Loss: 0.0927 | Acc: 93.08%\n",
      "Batch 100/366 | Loss: 0.0863 | Acc: 92.73%\n",
      "Batch 150/366 | Loss: 0.2000 | Acc: 93.09%\n",
      "Batch 200/366 | Loss: 0.1763 | Acc: 93.00%\n",
      "Batch 250/366 | Loss: 0.1035 | Acc: 92.89%\n",
      "Batch 300/366 | Loss: 0.2925 | Acc: 92.60%\n",
      "Batch 350/366 | Loss: 0.0878 | Acc: 92.41%\n",
      "Epoch 3 - Loss: 0.2167, Accuracy: 92.42%\n"
     ]
    }
   ],
   "source": [
    "for epoch in range(epochs):\n",
    "    print(f\"\\nEpoch {epoch+1}/{epochs}\")\n",
    "    loss, acc = train_bert_epoch(bert_model, bert_train_loader, bert_optimizer, device)\n",
    "    bert_losses.append(loss)\n",
    "    bert_accuracies.append(acc)\n",
    "    print(f\"Epoch {epoch+1} - Loss: {loss:.4f}, Accuracy: {acc:.2f}%\")"
   ]
  },
  {
   "cell_type": "code",
   "execution_count": 208,
   "metadata": {
    "execution": {
     "iopub.execute_input": "2025-01-07T10:57:46.747723Z",
     "iopub.status.busy": "2025-01-07T10:57:46.747405Z",
     "iopub.status.idle": "2025-01-07T10:57:46.838657Z",
     "shell.execute_reply": "2025-01-07T10:57:46.837824Z",
     "shell.execute_reply.started": "2025-01-07T10:57:46.747700Z"
    },
    "trusted": true
   },
   "outputs": [
    {
     "name": "stdout",
     "output_type": "stream",
     "text": [
      "PyTorch Model Test Accuracy: 80.26%\n"
     ]
    }
   ],
   "source": [
    "pytorch_model.eval()\n",
    "pytorch_preds = []\n",
    "pytorch_labels = []\n",
    "with torch.no_grad():\n",
    "    for batch in pytorch_test_loader:\n",
    "        embeddings = batch['embeddings'].to(device)\n",
    "        labels = batch['labels'].to(device)\n",
    "\n",
    "        outputs = pytorch_model(embeddings)\n",
    "        _, preds = torch.max(outputs, 1)\n",
    "        \n",
    "        pytorch_preds.extend(preds.cpu().numpy())\n",
    "        pytorch_labels.extend(labels.cpu().numpy())\n",
    "\n",
    "# Calculate accuracy\n",
    "pytorch_test_accuracy = accuracy_score(pytorch_labels, pytorch_preds)\n",
    "print(f\"PyTorch Model Test Accuracy: {pytorch_test_accuracy * 100:.2f}%\")"
   ]
  },
  {
   "cell_type": "code",
   "execution_count": 209,
   "metadata": {
    "execution": {
     "iopub.execute_input": "2025-01-07T10:57:48.860600Z",
     "iopub.status.busy": "2025-01-07T10:57:48.860306Z",
     "iopub.status.idle": "2025-01-07T10:57:58.560592Z",
     "shell.execute_reply": "2025-01-07T10:57:58.559806Z",
     "shell.execute_reply.started": "2025-01-07T10:57:48.860579Z"
    },
    "trusted": true
   },
   "outputs": [
    {
     "name": "stdout",
     "output_type": "stream",
     "text": [
      "BERT Model Test Accuracy: 83.67%\n"
     ]
    }
   ],
   "source": [
    "bert_model.eval()\n",
    "bert_preds = []\n",
    "bert_labels = []\n",
    "\n",
    "with torch.no_grad():\n",
    "    for batch in bert_test_loader:\n",
    "        input_ids = batch['input_ids'].to(device)\n",
    "        attention_mask = batch['attention_mask'].to(device)\n",
    "        labels = batch['labels'].to(device)\n",
    "\n",
    "        logits = bert_model(input_ids, attention_mask=attention_mask)\n",
    "        \n",
    "        _, preds = torch.max(logits, 1)\n",
    "\n",
    "        bert_preds.extend(preds.cpu().numpy())\n",
    "        bert_labels.extend(labels.cpu().numpy())\n",
    "\n",
    "bert_test_accuracy = accuracy_score(bert_labels, bert_preds)\n",
    "print(f\"BERT Model Test Accuracy: {bert_test_accuracy * 100:.2f}%\")"
   ]
  },
  {
   "cell_type": "code",
   "execution_count": 207,
   "metadata": {
    "execution": {
     "iopub.execute_input": "2025-01-07T10:57:43.300885Z",
     "iopub.status.busy": "2025-01-07T10:57:43.300540Z",
     "iopub.status.idle": "2025-01-07T10:57:43.872874Z",
     "shell.execute_reply": "2025-01-07T10:57:43.872058Z",
     "shell.execute_reply.started": "2025-01-07T10:57:43.300856Z"
    },
    "trusted": true
   },
   "outputs": [
    {
     "data": {
      "image/png": "[encoded data removed]",
      "text/plain": [
       "<Figure size 1200x600 with 2 Axes>"
      ]
     },
     "metadata": {},
     "output_type": "display_data"
    }
   ],
   "source": [
    "plt.figure(figsize=(12, 6))\n",
    "plt.subplot(1, 2, 1)\n",
    "plt.plot(pytorch_losses, label='PyTorch Loss')\n",
    "plt.plot(bert_losses, label='BERT Loss')\n",
    "plt.xlabel('Epochs')\n",
    "plt.ylabel('Loss')\n",
    "plt.title('Loss Comparison')\n",
    "plt.legend()\n",
    "\n",
    "plt.subplot(1, 2, 2)\n",
    "plt.plot(pytorch_accuracies, label='PyTorch Accuracy')\n",
    "plt.plot(bert_accuracies, label='BERT Accuracy')\n",
    "plt.xlabel('Epochs')\n",
    "plt.ylabel('Accuracy (%)')\n",
    "plt.title('Accuracy Comparison')\n",
    "plt.legend()\n",
    "\n",
    "plt.tight_layout()\n",
    "plt.show()"
   ]
  },
  {
   "cell_type": "code",
   "execution_count": null,
   "metadata": {
    "trusted": true
   },
   "outputs": [],
   "source": []
  }
 ],
 "metadata": {
  "kaggle": {
   "accelerator": "gpu",
   "dataSources": [
    {
     "datasetId": 17,
     "sourceId": 742210,
     "sourceType": "datasetVersion"
    },
    {
     "datasetId": 715814,
     "sourceId": 1246668,
     "sourceType": "datasetVersion"
    }
   ],
   "dockerImageVersionId": 30823,
   "isGpuEnabled": true,
   "isInternetEnabled": true,
   "language": "python",
   "sourceType": "notebook"
  },
  "kernelspec": {
   "display_name": "Python 3",
   "language": "python",
   "name": "python3"
  },
  "language_info": {
   "codemirror_mode": {
    "name": "ipython",
    "version": 3
   },
   "file_extension": ".py",
   "mimetype": "text/x-python",
   "name": "python",
   "nbconvert_exporter": "python",
   "pygments_lexer": "ipython3",
   "version": "3.10.12"
  }
 },
 "nbformat": 4,
 "nbformat_minor": 4
}
